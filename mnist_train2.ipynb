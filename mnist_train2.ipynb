{
 "cells": [
  {
   "cell_type": "code",
   "execution_count": 1,
   "id": "8256ada3",
   "metadata": {},
   "outputs": [],
   "source": [
    "import torch\n",
    "from torch import nn\n",
    "from torch.nn import functional as F\n",
    "from torch import optim\n",
    "import torchvision\n",
    "import tensorwatch as tw\n",
    "from torchvision import models\n",
    "from torchsummary import summary  # 输出网络模型结构的相关包\n",
    "from matplotlib import pyplot as plt  # 导入matplotlib库，用于绘图\n",
    "\n",
    "from utils import plot_image, plot_curve, one_hot  # 导入自定义的一些工具函数\n",
    "\n",
    "# import os  # 导入os库，用于操作系统相关的功能\n",
    "# os.environ[\n",
    "#     'KMP_DUPLICATE_LIB_OK']='TRUE'   # 设置一个环境变量，防止出现重复的库的错误\n",
    "device = torch.device(\"cuda:0\" if torch.cuda.is_available() else \"cpu\")  # （自己添加）\n",
    "\n",
    "batch_size = 512  # 设置每个批次的数据量为512"
   ]
  },
  {
   "cell_type": "code",
   "execution_count": 2,
   "id": "2f93bd1a",
   "metadata": {},
   "outputs": [
    {
     "name": "stdout",
     "output_type": "stream",
     "text": [
      "torch.Size([512, 1, 28, 28]) torch.Size([512]) tensor(-0.4242) tensor(2.8215)\n"
     ]
    },
    {
     "data": {
      "image/png": "[encoded data removed]",
      "text/plain": [
       "<Figure size 432x288 with 9 Axes>"
      ]
     },
     "metadata": {},
     "output_type": "display_data"
    }
   ],
   "source": [
    "# 创建一个训练数据加载器，使用torchvision.datasets.MNIST方法下载并加载MNIST手写数字数据集\n",
    "# 使用torchvision.transforms.Compose方法对数据进行预处理，包括转换为张量和归一化\n",
    "# 使用torch.utils.data.DataLoader方法将数据封装成批次，并打乱顺序\n",
    "train_loader = torch.utils.data.DataLoader(\n",
    "\n",
    "    torchvision.datasets.MNIST('mnist_data', train=True, download=True,\n",
    "                               transform=torchvision.transforms.Compose([\n",
    "                                   torchvision.transforms.ToTensor(),\n",
    "                                   torchvision.transforms.Normalize(\n",
    "                                       (0.1307,), (0.3081,))\n",
    "                               ])),\n",
    "    batch_size=batch_size, shuffle=True)\n",
    "\n",
    "test_loader = torch.utils.data.DataLoader(\n",
    "    torchvision.datasets.MNIST('mnist_data/', train=False, download=True,\n",
    "                               transform=torchvision.transforms.Compose([\n",
    "                                   torchvision.transforms.ToTensor(),\n",
    "                                   torchvision.transforms.Normalize(\n",
    "                                       (0.1307,), (0.3081,))\n",
    "                               ])),\n",
    "    batch_size=batch_size, shuffle=False)\n",
    "\n",
    "x, y = next(iter(train_loader))  # 使用next(iter())方法从训练数据加载器中获取下一个批次的数据，包括输入x和标签y\n",
    "print(x.shape, y.shape, x.min(), x.max())  # 打印x和y的形状、x的最小值和最大值\n",
    "\n",
    "plot_image(x, y, 'image sample')\n",
    "\n",
    "# 移动到GPU上\n",
    "x = x.to(device)  # （自己添加）\n",
    "y = y.to(device)  # （自己添加）"
   ]
  },
  {
   "cell_type": "code",
   "execution_count": 3,
   "id": "23d2c40d",
   "metadata": {},
   "outputs": [
    {
     "name": "stdout",
     "output_type": "stream",
     "text": [
      "----------------------------------------------------------------\n",
      "        Layer (type)               Output Shape         Param #\n",
      "================================================================\n",
      "            Linear-1                  [-1, 256]         200,960\n",
      "            Linear-2                   [-1, 64]          16,448\n",
      "            Linear-3                   [-1, 10]             650\n",
      "================================================================\n",
      "Total params: 218,058\n",
      "Trainable params: 218,058\n",
      "Non-trainable params: 0\n",
      "----------------------------------------------------------------\n",
      "Input size (MB): 0.00\n",
      "Forward/backward pass size (MB): 0.00\n",
      "Params size (MB): 0.83\n",
      "Estimated Total Size (MB): 0.84\n",
      "----------------------------------------------------------------\n"
     ]
    }
   ],
   "source": [
    "class Net(nn.Module):\n",
    "    # 定义神经网络模型类Net继承nn.Module类\n",
    "\n",
    "    def __init__(self):\n",
    "        # 定义模型的初始化方法\n",
    "\n",
    "        super(Net, self).__init__()\n",
    "        # 继承并执行父类（nn.Module）的初始化方法\n",
    "        # xw+b\n",
    "        self.fc1 = nn.Linear(28 * 28, 256)\n",
    "        # 第一层全连接层，输入特征向量28*28，输出特征向量256\n",
    "        self.fc2 = nn.Linear(256, 64)\n",
    "        # 第二层全连接层，输入特征向量256，输出特征向量64\n",
    "        self.fc3 = nn.Linear(64, 10)\n",
    "        # 第三层全连接层，输入特征向量64，输出特征向量10\n",
    "\n",
    "    def forward(self, x):\n",
    "        # 定义前向传播计算过程的方法forward，输入参数x是模型输入\n",
    "\n",
    "        # x: [b, 1, 28, 28]\n",
    "        # h1 = relu(xw1+b1)\n",
    "        x = F.relu(self.fc1(x))\n",
    "        # 将第一层的输出传递到第二层，并应用ReLU激活函数 进行非线性变换\n",
    "        # h2 = relu(h1w2+b2)\n",
    "        x = F.relu(self.fc2(x))\n",
    "        # h1作为输入通过第二层全连接层计算得到h2，并应用激活函数relu进行非线性变换\n",
    "        # h3 = h2w3+b3\n",
    "        x = self.fc3(x)\n",
    "        # h2作为输入通过第三层全连接层计算得到输出结果h3\n",
    "        return x\n",
    "\n",
    "\n",
    "net = Net()\n",
    "# 移动模型到GPU上    # print(next(net.parameters()).device)  # 返回cuda值\n",
    "net = net.to(device)  # 网络加载到GPU运行（自己添加）\n",
    "\n",
    "################ 输出网络结构\n",
    "summary(net, input_size=(28 * 28,))  # 调用summary函数，输入模型和输入大小"
   ]
  },
  {
   "cell_type": "code",
   "execution_count": 4,
   "id": "161daa4e",
   "metadata": {},
   "outputs": [
    {
     "name": "stdout",
     "output_type": "stream",
     "text": [
      "epoch: 0 迭代次数: 0 loss: 2.297152042388916\n",
      "epoch: 0 迭代次数: 10 loss: 2.2028071880340576\n",
      "epoch: 0 迭代次数: 20 loss: 1.9420967102050781\n",
      "epoch: 0 迭代次数: 30 loss: 1.3867895603179932\n",
      "epoch: 0 迭代次数: 40 loss: 0.8763126134872437\n",
      "epoch: 0 迭代次数: 50 loss: 0.694456160068512\n",
      "epoch: 0 迭代次数: 60 loss: 0.5136757493019104\n",
      "epoch: 0 迭代次数: 70 loss: 0.4057026505470276\n",
      "epoch: 0 迭代次数: 80 loss: 0.44441959261894226\n",
      "epoch: 0 迭代次数: 90 loss: 0.407986581325531\n",
      "epoch: 0 迭代次数: 100 loss: 0.38050058484077454\n",
      "epoch: 0 迭代次数: 110 loss: 0.3373958468437195\n",
      "epoch: 0 迭代次数: 117 loss: 0.222 Train accuracy: 53969.0/60000 (90%)\n",
      "\n",
      "epoch: 1 迭代次数: 0 loss: 0.3242463171482086\n",
      "epoch: 1 迭代次数: 10 loss: 0.40228569507598877\n",
      "epoch: 1 迭代次数: 20 loss: 0.3475707769393921\n",
      "epoch: 1 迭代次数: 30 loss: 0.3045910894870758\n",
      "epoch: 1 迭代次数: 40 loss: 0.2621379792690277\n",
      "epoch: 1 迭代次数: 50 loss: 0.3181283175945282\n",
      "epoch: 1 迭代次数: 60 loss: 0.3054646849632263\n",
      "epoch: 1 迭代次数: 70 loss: 0.32532232999801636\n",
      "epoch: 1 迭代次数: 80 loss: 0.26907825469970703\n",
      "epoch: 1 迭代次数: 90 loss: 0.2654348611831665\n",
      "epoch: 1 迭代次数: 100 loss: 0.2958334684371948\n",
      "epoch: 1 迭代次数: 110 loss: 0.25954097509384155\n",
      "epoch: 1 迭代次数: 117 loss: 0.282 Train accuracy: 55330.0/60000 (92%)\n",
      "\n"
     ]
    },
    {
     "data": {
      "image/png": "[encoded data removed]",
      "text/plain": [
       "<Figure size 432x288 with 1 Axes>"
      ]
     },
     "metadata": {
      "needs_background": "light"
     },
     "output_type": "display_data"
    }
   ],
   "source": [
    "###################优化器\n",
    "optimizer = optim.SGD(net.parameters(), lr=0.01, momentum=0.9)  # 创建一个 梯度下降SGD 优化器，用来更新 net 模型的参数\n",
    "# optimizer = optim.Adam(net.parameters(), lr=0.0001)  # 基于自适应学习率的优化器，它可以根据每个参数的梯度历史动态调整学习率，从而加速收敛\n",
    "\n",
    "#####################训练\n",
    "train_loss = []\n",
    "for epoch in range(2):  # epoch是所有数据都放入模型训练的次数\n",
    "\n",
    "    for batch_idx, (x, y) in enumerate(train_loader):  # batch_idx即iteration，表示迭代次数\n",
    "\n",
    "        # x: [b, 1, 28, 28], y: [512]\n",
    "        # [b, 1, 28, 28] => [b, 784]\n",
    "        x = x.to(device)\n",
    "        y = y.to(device)\n",
    "        x = x.view(x.size(0), 28 * 28)\n",
    "        # => [b, 10]\n",
    "        out = net(x)\n",
    "        y_onehot = one_hot(y)\n",
    "        # loss = mse(out, y_onehot)\n",
    "        # loss=F.mse_loss(out,y_onehot)  # 均方误差\n",
    "        loss_func = torch.nn.CrossEntropyLoss()  # 直接使用pytorch内置的交叉熵损失函数\n",
    "        loss = loss_func(out, y_onehot)  # 直接使用pytorch内置的交叉熵损失函数\n",
    "\n",
    "        optimizer.zero_grad()\n",
    "        loss.backward()\n",
    "        # w' = w - lr*grad\n",
    "        optimizer.step()\n",
    "\n",
    "        train_loss.append(loss.item())  # 将当前批次的损失值转换为Python数值并添加到train_loss列表中\n",
    "\n",
    "        if batch_idx % 10 == 0:\n",
    "            print('epoch:', epoch, '迭代次数:', batch_idx, 'loss:', loss.item())\n",
    "        ############### 输出训练准确度\n",
    "        train_correct = 0  # 定义一个变量，用于记录训练过程中的正确预测数\n",
    "    total = 0  # 定义一个变量，用于记录训练过程中的总样本数\n",
    "    for data in train_loader:  # 开始一个循环，遍历训练数据加载器(train_loader)中的每一批数据\n",
    "        x, y = data  # 将每一批数据分解为输入特征(x)和标签(y)\n",
    "        x = x.to(device)  # 将输入特征转移到GPU上\n",
    "        y = y.to(device)  # 将标签转移到GPU上\n",
    "        x = x.view(x.size(0), 28 * 28)  # 将输入特征变形为二维张量，第一维是批量大小，第二维是28*28，即图片的像素数\n",
    "        out = net(x)  # 调用模型(net)，输入特征，输出预测值(out)\n",
    "        pred = out.argmax(dim=1)  # 对预测值进行argmax操作，沿着第二维(即每个样本的10个类别概率)，取最大值的索引，得到预测类别(pred)\n",
    "        correct = pred.eq(\n",
    "            y).sum().float().item()  # 对预测类别和标签进行比较，使用eq函数得到一个布尔张量，表示哪些样本预测正确，然后对其求和，转换为浮点数，并取出其中的数值，得到这一批数据中的正确预测数(\n",
    "        # correct)\n",
    "        train_correct += correct  # 将正确预测数累加到train_correct变量中\n",
    "        total += y.size(0)  # 将这一批数据的样本数累加到total变量中\n",
    "        train_acc = 100*train_correct / total  # 计算训练精度(train_acc)，即正确预测数除以总样本数\n",
    "    print('epoch: {} 迭代次数: {} loss: {:.3f} Train accuracy: {}/{} ({:.1f}%)\\n'.format(epoch, batch_idx, loss.item(),\n",
    "                                                                                     train_correct, total,\n",
    "                                                                                     train_acc))  # 打印当前轮数(epoch)，当前迭代次数(batch_idx)，当前损失(loss)，和当前训练精度(train_acc)\n",
    "\n",
    "plot_curve(train_loss)  # 输出loss变化曲线图"
   ]
  },
  {
   "cell_type": "code",
   "execution_count": 8,
   "id": "9c8e55ad",
   "metadata": {},
   "outputs": [
    {
     "name": "stdout",
     "output_type": "stream",
     "text": [
      "Test accuracy:9231.0/10000 (92.3%)\n",
      "\n"
     ]
    },
    {
     "data": {
      "image/png": "[encoded data removed]",
      "text/plain": [
       "<Figure size 432x288 with 9 Axes>"
      ]
     },
     "metadata": {},
     "output_type": "display_data"
    }
   ],
   "source": [
    "######### 测试（利用测试数据）\n",
    "total_correct = 0\n",
    "for x, y in test_loader:\n",
    "    x = x.to(device)\n",
    "    y = y.to(device)\n",
    "    x = x.view(x.size(0), 28 * 28)\n",
    "    out = net(x)\n",
    "    # out: [b, 10] => pred: [b]\n",
    "    pred = out.argmax(dim=1)\n",
    "    correct = pred.eq(y).sum().float().item()\n",
    "    total_correct += correct\n",
    "\n",
    "total_num = len(test_loader.dataset)\n",
    "acc = 100*total_correct / total_num\n",
    "print('Test accuracy:{}/{} ({:.1f}%)\\n'.format( total_correct, total_num, acc))\n",
    "\n",
    "######### 测试 推理，示例；新的图片输入模型，输出预测值\n",
    "x, y = next(iter(test_loader))  # 从测试数据加载器(test_loader)中取出第一批数据，分解为输入特征(x)和标签(y)\n",
    "x = x.to(device)  # 将输入特征转移到GPU上\n",
    "# y=y.cuda()  # 将标签转移到GPU上（这一行被注释掉了，可能是因为不需要用到标签）\n",
    "out = net(x.view(x.size(0), 28 * 28))  # 调用模型(net)，输入特征，输出预测值(out)，其中输入特征被变形为二维张量，第一维是批量大小，第二维是28*28，即图片的像素数\n",
    "pred = out.argmax(dim=1)  # 对预测值进行argmax操作，沿着第二维(即每个样本的10个类别概率)，取最大值的索引，得到预测类别(pred)\n",
    "pred = pred.to(device).data.cpu()  # 将预测类别从GPU上转移到CPU上，并取出其中的数据部分\n",
    "x = x.to(device).data.cpu()  # 将输入特征从GPU上转移到CPU上，并取出其中的数据部分\n",
    "plot_image(x, pred, 'test')  # 调用plot_image函数，输入特征，预测类别和标题('test')，绘制图片和预测结果"
   ]
  },
  {
   "cell_type": "code",
   "execution_count": 9,
   "id": "c8a65a64",
   "metadata": {},
   "outputs": [],
   "source": [
    "####################模型保存 保存整个网络\n",
    "# torch.save(net, './Regression_model_.pt')\n",
    "torch.save({\n",
    "    'epoch': epoch,\n",
    "    # 'model_state_dict': net.state_dict(),\n",
    "    # 'optimizer_state_dict': optimizer.state_dict(),\n",
    "    'Testacc': acc,\n",
    "    'TrainAcc': train_acc,\n",
    "    'Batchsize': batch_size,\n",
    "},\n",
    "    f\"model_Batchsize{batch_size}_epoch{epoch}_TrainAcc{train_acc:.3f}_TestAcc{acc:.3f}.pth\")  # 文件名是一个格式化字符串(f-string)，包含模型名称(model)，批量大小(Batchsize)，训练轮数(epoch)，训练精度(TrainAcc)和测试精度(TestAcc)，以及文件扩展名(.pth)\n",
    "# 读取\n",
    "# use_model = torch.load('./Train_model.pt')"
   ]
  }
 ],
 "metadata": {
  "kernelspec": {
   "display_name": "Python 3 (ipykernel)",
   "language": "python",
   "name": "python3"
  },
  "language_info": {
   "codemirror_mode": {
    "name": "ipython",
    "version": 3
   },
   "file_extension": ".py",
   "mimetype": "text/x-python",
   "name": "python",
   "nbconvert_exporter": "python",
   "pygments_lexer": "ipython3",
   "version": "3.8.13"
  }
 },
 "nbformat": 4,
 "nbformat_minor": 5
}
